{
 "cells": [
  {
   "cell_type": "markdown",
   "metadata": {},
   "source": [
    "# Guessing Game Challenge\n",
    "\n",
    "Let's use `while` loops to create a guessing game.\n",
    "\n",
    "The Challenge:\n",
    "\n",
    "Write a program that picks a random integer from 1 to 100, and has players guess the number. The rules are:\n",
    "\n",
    "1. If a player's guess is less than 1 or greater than 100, say \"OUT OF BOUNDS\"\n",
    "2. On a player's first turn, if their guess is\n",
    " * within 10 of the number, return \"WARM!\"\n",
    " * further than 10 away from the number, return \"COLD!\"\n",
    "3. On all subsequent turns, if a guess is \n",
    " * closer to the number than the previous guess return \"WARMER!\"\n",
    " * farther from the number than the previous guess, return \"COLDER!\"\n",
    "4. When the player's guess equals the number, tell them they've guessed correctly *and* how many guesses it took!\n",
    "\n",
    "You can try this from scratch, or follow the steps outlined below. A separate Solution notebook has been provided. Good luck!\n"
   ]
  },
  {
   "cell_type": "markdown",
   "metadata": {},
   "source": []
  },
  {
   "cell_type": "markdown",
   "metadata": {},
   "source": [
    "#### First, pick a random integer from 1 to 100 using the random module and assign it to a variable\n",
    "\n",
    "Note: `random.randint(a,b)` returns a random integer in range `[a, b]`, including both end points."
   ]
  },
  {
   "cell_type": "code",
   "execution_count": 27,
   "metadata": {
    "collapsed": true
   },
   "outputs": [],
   "source": [
    "import random\n",
    "number=random.randint(1,100)"
   ]
  },
  {
   "cell_type": "markdown",
   "metadata": {},
   "source": [
    "#### Next, print an introduction to the game and explain the rules"
   ]
  },
  {
   "cell_type": "code",
   "execution_count": 32,
   "metadata": {
    "collapsed": true
   },
   "outputs": [
    {
     "name": "stdout",
     "output_type": "stream",
     "text": [
      "Your task is to guess a number between 1 and 100 both included\n",
      "If player guess is less than 1 or more than 100, player gets OUT OF BOUNDS on console\n",
      " if their guess is\n",
      "  within 10 of the number, player gets WARM!\n",
      "  further than 10 away from the number, player gets COLD! on console\n",
      "On all subsequent turns, if a guess is\n",
      "  closer to the number than player gets WARMER!\n",
      "  farther from the number than the previous guess prints COLDER!\n",
      "When the player's guess equals the number, console prints NUMBER GUESSED and how many attempts it took\n"
     ]
    }
   ],
   "source": [
    "print(\"Your task is to guess a number between 1 and 100 both included\")\n",
    "print(\"If player guess is less than 1 or more than 100, player gets OUT OF BOUNDS on console\")\n",
    "print(\" if their guess is\\n  within 10 of the number, player gets WARM!\\n  further than 10 away from the number, player gets COLD! on console\")\n",
    "print(\"On all subsequent turns, if a guess is\\n  closer to the number than player gets WARMER!\\n  farther from the number than the previous guess prints COLDER!\")\n",
    "print(\"When the player's guess equals the number, console prints NUMBER GUESSED and how many attempts it took\")"
   ]
  },
  {
   "cell_type": "markdown",
   "metadata": {},
   "source": [
    "#### Create a list to store guesses\n",
    "\n",
    "Hint: zero is a good placeholder value. It's useful because it evaluates to \"False\""
   ]
  },
  {
   "cell_type": "code",
   "execution_count": null,
   "metadata": {
    "collapsed": true
   },
   "outputs": [],
   "source": []
  },
  {
   "cell_type": "markdown",
   "metadata": {},
   "source": [
    "#### Write a `while` loop that asks for a valid guess. Test it a few times to make sure it works."
   ]
  },
  {
   "cell_type": "code",
   "execution_count": 36,
   "metadata": {
    "collapsed": true
   },
   "outputs": [
    {
     "name": "stdout",
     "output_type": "stream",
     "text": [
      "48\n",
      "WARM!\n",
      "COLDER!\n",
      "NUMBER GUESSED\n",
      "NUMBER OF GUESSES TOOK TO GUESS 48 are 3\n"
     ]
    }
   ],
   "source": [
    "import random\n",
    "\n",
    "number = random.randint(1, 100)  # You need to define the 'number' variable\n",
    "\n",
    "cnt = 1\n",
    "\n",
    "while True:\n",
    "    guess = int(input(\"Guess the number: \"))\n",
    "\n",
    "    if guess == number:\n",
    "        print(\"NUMBER GUESSED\")\n",
    "        print(\"NUMBER OF GUESSES TOOK TO GUESS \" + str(number) + \" are \" + str(cnt))\n",
    "        break\n",
    "    elif cnt == 1 and abs(guess - number) <= 10:\n",
    "        diff = abs(guess - number)\n",
    "        cnt += 1\n",
    "        print(\"WARM!\")\n",
    "    elif cnt == 1 and abs(guess - number) > 10:\n",
    "        diff = abs(guess - number)\n",
    "        cnt += 1\n",
    "        print(\"COLD!\")\n",
    "    elif cnt > 1 and abs(guess - number) <= diff:\n",
    "        diff = abs(guess - number)\n",
    "        cnt += 1\n",
    "        print(\"WARMER!\")\n",
    "    elif cnt > 1 and abs(guess - number) > diff:\n",
    "        diff = abs(guess - number)\n",
    "        cnt += 1\n",
    "        print(\"COLDER!\")\n"
   ]
  },
  {
   "cell_type": "markdown",
   "metadata": {},
   "source": [
    "#### Write a `while` loop that compares the player's guess to our number. If the player guesses correctly, break from the loop. Otherwise, tell the player if they're warmer or colder, and continue asking for guesses.\n",
    "\n",
    "Some hints:\n",
    "* it may help to sketch out all possible combinations on paper first!\n",
    "* you can use the `abs()` function to find the positive difference between two numbers\n",
    "* if you append all new guesses to the list, then the previous guess is given as `guesses[-2]`"
   ]
  },
  {
   "cell_type": "code",
   "execution_count": null,
   "metadata": {
    "collapsed": true
   },
   "outputs": [],
   "source": [
    "while True:\n",
    "\n",
    "   while True:\n",
    "    guess = int(input(\"Guess the number: \"))\n",
    "\n",
    "    if guess == number:\n",
    "        print(\"NUMBER GUESSED\")\n",
    "        print(\"NUMBER OF GUESSES TOOK TO GUESS \" + str(number) + \" are \" + str(cnt))\n",
    "        break\n",
    "    elif cnt == 1 and abs(guess - number) <= 10:\n",
    "        diff = abs(guess - number)\n",
    "        cnt += 1\n",
    "        print(\"WARM!\")\n",
    "    elif cnt == 1 and abs(guess - number) > 10:\n",
    "        diff = abs(guess - number)\n",
    "        cnt += 1\n",
    "        print(\"COLD!\")\n",
    "    elif cnt > 1 and abs(guess - number) <= diff:\n",
    "        diff = abs(guess - number)\n",
    "        cnt += 1\n",
    "        print(\"WARMER!\")\n",
    "    elif cnt > 1 and abs(guess - number) > diff:\n",
    "        diff = abs(guess - number)\n",
    "        cnt += 1\n",
    "        print(\"COLDER!\")\n",
    "    "
   ]
  },
  {
   "cell_type": "markdown",
   "metadata": {},
   "source": [
    "That's it! You've just programmed your first game!\n",
    "\n",
    "In the next section we'll learn how to turn some of these repetitive actions into *functions* that can be called whenever we need them."
   ]
  },
  {
   "cell_type": "markdown",
   "metadata": {},
   "source": [
    "### Good Job!"
   ]
  }
 ],
 "metadata": {
  "kernelspec": {
   "display_name": "Python 3",
   "language": "python",
   "name": "python3"
  },
  "language_info": {
   "codemirror_mode": {
    "name": "ipython",
    "version": 3
   },
   "file_extension": ".py",
   "mimetype": "text/x-python",
   "name": "python",
   "nbconvert_exporter": "python",
   "pygments_lexer": "ipython3",
   "version": "3.12.0"
  }
 },
 "nbformat": 4,
 "nbformat_minor": 2
}
