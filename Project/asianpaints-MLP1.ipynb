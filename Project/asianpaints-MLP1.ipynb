{
 "cells": [
  {
   "cell_type": "code",
   "execution_count": 1,
   "metadata": {},
   "outputs": [],
   "source": [
    "import pandas as pd\n",
    "import numpy as np\n",
    "import matplotlib.pyplot as plt\n",
    "from sklearn.model_selection import train_test_split\n",
    "from keras.models import Sequential\n",
    "from keras.layers import Dense\n",
    "from keras.optimizers import Adam\n",
    "from keras.callbacks import TensorBoard\n",
    "from sklearn.preprocessing import StandardScaler"
   ]
  },
  {
   "cell_type": "code",
   "execution_count": 2,
   "metadata": {},
   "outputs": [],
   "source": [
    "df = pd.read_excel(\"ASIANPAINT_Dataset.xlsx\")"
   ]
  },
  {
   "cell_type": "code",
   "execution_count": 3,
   "metadata": {},
   "outputs": [
    {
     "name": "stdout",
     "output_type": "stream",
     "text": [
      "<class 'pandas.core.frame.DataFrame'>\n",
      "RangeIndex: 35591 entries, 0 to 35590\n",
      "Data columns (total 8 columns):\n",
      " #   Column            Non-Null Count  Dtype         \n",
      "---  ------            --------------  -----         \n",
      " 0   Date              35591 non-null  datetime64[ns]\n",
      " 1   Expiry            35591 non-null  datetime64[ns]\n",
      " 2   t                 35591 non-null  int64         \n",
      " 3   strike_price      35591 non-null  int64         \n",
      " 4   underlying_value  35591 non-null  float64       \n",
      " 5   sigma             35591 non-null  float64       \n",
      " 6   r                 35591 non-null  float64       \n",
      " 7   close             35591 non-null  float64       \n",
      "dtypes: datetime64[ns](2), float64(4), int64(2)\n",
      "memory usage: 2.2 MB\n"
     ]
    }
   ],
   "source": [
    "df.info()"
   ]
  },
  {
   "cell_type": "code",
   "execution_count": 4,
   "metadata": {},
   "outputs": [
    {
     "data": {
      "text/html": [
       "<div>\n",
       "<style scoped>\n",
       "    .dataframe tbody tr th:only-of-type {\n",
       "        vertical-align: middle;\n",
       "    }\n",
       "\n",
       "    .dataframe tbody tr th {\n",
       "        vertical-align: top;\n",
       "    }\n",
       "\n",
       "    .dataframe thead th {\n",
       "        text-align: right;\n",
       "    }\n",
       "</style>\n",
       "<table border=\"1\" class=\"dataframe\">\n",
       "  <thead>\n",
       "    <tr style=\"text-align: right;\">\n",
       "      <th></th>\n",
       "      <th>Date</th>\n",
       "      <th>Expiry</th>\n",
       "      <th>t</th>\n",
       "      <th>strike_price</th>\n",
       "      <th>underlying_value</th>\n",
       "      <th>sigma</th>\n",
       "      <th>r</th>\n",
       "      <th>close</th>\n",
       "    </tr>\n",
       "  </thead>\n",
       "  <tbody>\n",
       "    <tr>\n",
       "      <th>count</th>\n",
       "      <td>35591</td>\n",
       "      <td>35591</td>\n",
       "      <td>35591.000000</td>\n",
       "      <td>35591.000000</td>\n",
       "      <td>35591.000000</td>\n",
       "      <td>35591.000000</td>\n",
       "      <td>35591.000000</td>\n",
       "      <td>35591.000000</td>\n",
       "    </tr>\n",
       "    <tr>\n",
       "      <th>mean</th>\n",
       "      <td>2020-07-30 12:35:32.629035520</td>\n",
       "      <td>2020-09-12 12:00:15.779270144</td>\n",
       "      <td>43.975499</td>\n",
       "      <td>1837.912394</td>\n",
       "      <td>1970.402544</td>\n",
       "      <td>0.019941</td>\n",
       "      <td>0.035962</td>\n",
       "      <td>207.026833</td>\n",
       "    </tr>\n",
       "    <tr>\n",
       "      <th>min</th>\n",
       "      <td>2020-01-01 00:00:00</td>\n",
       "      <td>2020-01-30 00:00:00</td>\n",
       "      <td>0.000000</td>\n",
       "      <td>1300.000000</td>\n",
       "      <td>1498.450000</td>\n",
       "      <td>0.007787</td>\n",
       "      <td>0.029300</td>\n",
       "      <td>0.050000</td>\n",
       "    </tr>\n",
       "    <tr>\n",
       "      <th>25%</th>\n",
       "      <td>2020-05-04 00:00:00</td>\n",
       "      <td>2020-06-25 00:00:00</td>\n",
       "      <td>21.000000</td>\n",
       "      <td>1560.000000</td>\n",
       "      <td>1724.250000</td>\n",
       "      <td>0.015889</td>\n",
       "      <td>0.031500</td>\n",
       "      <td>57.900000</td>\n",
       "    </tr>\n",
       "    <tr>\n",
       "      <th>50%</th>\n",
       "      <td>2020-08-19 00:00:00</td>\n",
       "      <td>2020-09-24 00:00:00</td>\n",
       "      <td>43.000000</td>\n",
       "      <td>1800.000000</td>\n",
       "      <td>1891.300000</td>\n",
       "      <td>0.017918</td>\n",
       "      <td>0.032500</td>\n",
       "      <td>166.150000</td>\n",
       "    </tr>\n",
       "    <tr>\n",
       "      <th>75%</th>\n",
       "      <td>2020-11-03 00:00:00</td>\n",
       "      <td>2020-12-31 00:00:00</td>\n",
       "      <td>66.000000</td>\n",
       "      <td>2040.000000</td>\n",
       "      <td>2166.550000</td>\n",
       "      <td>0.019862</td>\n",
       "      <td>0.035200</td>\n",
       "      <td>324.750000</td>\n",
       "    </tr>\n",
       "    <tr>\n",
       "      <th>max</th>\n",
       "      <td>2020-12-31 00:00:00</td>\n",
       "      <td>2021-02-25 00:00:00</td>\n",
       "      <td>97.000000</td>\n",
       "      <td>3140.000000</td>\n",
       "      <td>2764.500000</td>\n",
       "      <td>0.052411</td>\n",
       "      <td>0.052800</td>\n",
       "      <td>1360.000000</td>\n",
       "    </tr>\n",
       "    <tr>\n",
       "      <th>std</th>\n",
       "      <td>NaN</td>\n",
       "      <td>NaN</td>\n",
       "      <td>26.347567</td>\n",
       "      <td>353.981841</td>\n",
       "      <td>309.650698</td>\n",
       "      <td>0.008570</td>\n",
       "      <td>0.007311</td>\n",
       "      <td>175.737167</td>\n",
       "    </tr>\n",
       "  </tbody>\n",
       "</table>\n",
       "</div>"
      ],
      "text/plain": [
       "                                Date                         Expiry  \\\n",
       "count                          35591                          35591   \n",
       "mean   2020-07-30 12:35:32.629035520  2020-09-12 12:00:15.779270144   \n",
       "min              2020-01-01 00:00:00            2020-01-30 00:00:00   \n",
       "25%              2020-05-04 00:00:00            2020-06-25 00:00:00   \n",
       "50%              2020-08-19 00:00:00            2020-09-24 00:00:00   \n",
       "75%              2020-11-03 00:00:00            2020-12-31 00:00:00   \n",
       "max              2020-12-31 00:00:00            2021-02-25 00:00:00   \n",
       "std                              NaN                            NaN   \n",
       "\n",
       "                  t  strike_price  underlying_value         sigma  \\\n",
       "count  35591.000000  35591.000000      35591.000000  35591.000000   \n",
       "mean      43.975499   1837.912394       1970.402544      0.019941   \n",
       "min        0.000000   1300.000000       1498.450000      0.007787   \n",
       "25%       21.000000   1560.000000       1724.250000      0.015889   \n",
       "50%       43.000000   1800.000000       1891.300000      0.017918   \n",
       "75%       66.000000   2040.000000       2166.550000      0.019862   \n",
       "max       97.000000   3140.000000       2764.500000      0.052411   \n",
       "std       26.347567    353.981841        309.650698      0.008570   \n",
       "\n",
       "                  r         close  \n",
       "count  35591.000000  35591.000000  \n",
       "mean       0.035962    207.026833  \n",
       "min        0.029300      0.050000  \n",
       "25%        0.031500     57.900000  \n",
       "50%        0.032500    166.150000  \n",
       "75%        0.035200    324.750000  \n",
       "max        0.052800   1360.000000  \n",
       "std        0.007311    175.737167  "
      ]
     },
     "execution_count": 4,
     "metadata": {},
     "output_type": "execute_result"
    }
   ],
   "source": [
    "df.describe()"
   ]
  },
  {
   "cell_type": "code",
   "execution_count": 5,
   "metadata": {},
   "outputs": [
    {
     "data": {
      "text/html": [
       "<div>\n",
       "<style scoped>\n",
       "    .dataframe tbody tr th:only-of-type {\n",
       "        vertical-align: middle;\n",
       "    }\n",
       "\n",
       "    .dataframe tbody tr th {\n",
       "        vertical-align: top;\n",
       "    }\n",
       "\n",
       "    .dataframe thead th {\n",
       "        text-align: right;\n",
       "    }\n",
       "</style>\n",
       "<table border=\"1\" class=\"dataframe\">\n",
       "  <thead>\n",
       "    <tr style=\"text-align: right;\">\n",
       "      <th></th>\n",
       "      <th>Date</th>\n",
       "      <th>Expiry</th>\n",
       "      <th>t</th>\n",
       "      <th>strike_price</th>\n",
       "      <th>underlying_value</th>\n",
       "      <th>sigma</th>\n",
       "      <th>r</th>\n",
       "      <th>close</th>\n",
       "    </tr>\n",
       "  </thead>\n",
       "  <tbody>\n",
       "    <tr>\n",
       "      <th>0</th>\n",
       "      <td>2020-01-01</td>\n",
       "      <td>2020-01-30</td>\n",
       "      <td>29</td>\n",
       "      <td>1980</td>\n",
       "      <td>1793.2</td>\n",
       "      <td>0.008151</td>\n",
       "      <td>0.0494</td>\n",
       "      <td>3.8</td>\n",
       "    </tr>\n",
       "    <tr>\n",
       "      <th>1</th>\n",
       "      <td>2020-01-01</td>\n",
       "      <td>2020-01-30</td>\n",
       "      <td>29</td>\n",
       "      <td>1440</td>\n",
       "      <td>1793.2</td>\n",
       "      <td>0.008151</td>\n",
       "      <td>0.0494</td>\n",
       "      <td>398.5</td>\n",
       "    </tr>\n",
       "    <tr>\n",
       "      <th>2</th>\n",
       "      <td>2020-01-01</td>\n",
       "      <td>2020-01-30</td>\n",
       "      <td>29</td>\n",
       "      <td>2020</td>\n",
       "      <td>1793.2</td>\n",
       "      <td>0.008151</td>\n",
       "      <td>0.0494</td>\n",
       "      <td>1.2</td>\n",
       "    </tr>\n",
       "    <tr>\n",
       "      <th>3</th>\n",
       "      <td>2020-01-01</td>\n",
       "      <td>2020-01-30</td>\n",
       "      <td>29</td>\n",
       "      <td>1920</td>\n",
       "      <td>1793.2</td>\n",
       "      <td>0.008151</td>\n",
       "      <td>0.0494</td>\n",
       "      <td>6.5</td>\n",
       "    </tr>\n",
       "    <tr>\n",
       "      <th>4</th>\n",
       "      <td>2020-01-01</td>\n",
       "      <td>2020-01-30</td>\n",
       "      <td>29</td>\n",
       "      <td>1940</td>\n",
       "      <td>1793.2</td>\n",
       "      <td>0.008151</td>\n",
       "      <td>0.0494</td>\n",
       "      <td>5.0</td>\n",
       "    </tr>\n",
       "  </tbody>\n",
       "</table>\n",
       "</div>"
      ],
      "text/plain": [
       "        Date     Expiry   t  strike_price  underlying_value     sigma       r  \\\n",
       "0 2020-01-01 2020-01-30  29          1980            1793.2  0.008151  0.0494   \n",
       "1 2020-01-01 2020-01-30  29          1440            1793.2  0.008151  0.0494   \n",
       "2 2020-01-01 2020-01-30  29          2020            1793.2  0.008151  0.0494   \n",
       "3 2020-01-01 2020-01-30  29          1920            1793.2  0.008151  0.0494   \n",
       "4 2020-01-01 2020-01-30  29          1940            1793.2  0.008151  0.0494   \n",
       "\n",
       "   close  \n",
       "0    3.8  \n",
       "1  398.5  \n",
       "2    1.2  \n",
       "3    6.5  \n",
       "4    5.0  "
      ]
     },
     "execution_count": 5,
     "metadata": {},
     "output_type": "execute_result"
    }
   ],
   "source": [
    "df.head()"
   ]
  },
  {
   "cell_type": "code",
   "execution_count": 6,
   "metadata": {},
   "outputs": [
    {
     "data": {
      "text/html": [
       "<div>\n",
       "<style scoped>\n",
       "    .dataframe tbody tr th:only-of-type {\n",
       "        vertical-align: middle;\n",
       "    }\n",
       "\n",
       "    .dataframe tbody tr th {\n",
       "        vertical-align: top;\n",
       "    }\n",
       "\n",
       "    .dataframe thead th {\n",
       "        text-align: right;\n",
       "    }\n",
       "</style>\n",
       "<table border=\"1\" class=\"dataframe\">\n",
       "  <thead>\n",
       "    <tr style=\"text-align: right;\">\n",
       "      <th></th>\n",
       "      <th>Date</th>\n",
       "      <th>Expiry</th>\n",
       "      <th>t</th>\n",
       "      <th>strike_price</th>\n",
       "      <th>underlying_value</th>\n",
       "      <th>sigma</th>\n",
       "      <th>r</th>\n",
       "      <th>close</th>\n",
       "    </tr>\n",
       "  </thead>\n",
       "  <tbody>\n",
       "    <tr>\n",
       "      <th>35586</th>\n",
       "      <td>2020-12-31</td>\n",
       "      <td>2021-02-25</td>\n",
       "      <td>56</td>\n",
       "      <td>2620</td>\n",
       "      <td>2764.5</td>\n",
       "      <td>0.015889</td>\n",
       "      <td>0.0308</td>\n",
       "      <td>40.15</td>\n",
       "    </tr>\n",
       "    <tr>\n",
       "      <th>35587</th>\n",
       "      <td>2020-12-31</td>\n",
       "      <td>2021-02-25</td>\n",
       "      <td>56</td>\n",
       "      <td>2640</td>\n",
       "      <td>2764.5</td>\n",
       "      <td>0.015889</td>\n",
       "      <td>0.0308</td>\n",
       "      <td>37.40</td>\n",
       "    </tr>\n",
       "    <tr>\n",
       "      <th>35588</th>\n",
       "      <td>2020-12-31</td>\n",
       "      <td>2021-02-25</td>\n",
       "      <td>56</td>\n",
       "      <td>2660</td>\n",
       "      <td>2764.5</td>\n",
       "      <td>0.015889</td>\n",
       "      <td>0.0308</td>\n",
       "      <td>34.80</td>\n",
       "    </tr>\n",
       "    <tr>\n",
       "      <th>35589</th>\n",
       "      <td>2020-12-31</td>\n",
       "      <td>2021-02-25</td>\n",
       "      <td>56</td>\n",
       "      <td>2680</td>\n",
       "      <td>2764.5</td>\n",
       "      <td>0.015889</td>\n",
       "      <td>0.0308</td>\n",
       "      <td>32.40</td>\n",
       "    </tr>\n",
       "    <tr>\n",
       "      <th>35590</th>\n",
       "      <td>2020-12-31</td>\n",
       "      <td>2021-02-25</td>\n",
       "      <td>56</td>\n",
       "      <td>2700</td>\n",
       "      <td>2764.5</td>\n",
       "      <td>0.015889</td>\n",
       "      <td>0.0308</td>\n",
       "      <td>30.10</td>\n",
       "    </tr>\n",
       "  </tbody>\n",
       "</table>\n",
       "</div>"
      ],
      "text/plain": [
       "            Date     Expiry   t  strike_price  underlying_value     sigma  \\\n",
       "35586 2020-12-31 2021-02-25  56          2620            2764.5  0.015889   \n",
       "35587 2020-12-31 2021-02-25  56          2640            2764.5  0.015889   \n",
       "35588 2020-12-31 2021-02-25  56          2660            2764.5  0.015889   \n",
       "35589 2020-12-31 2021-02-25  56          2680            2764.5  0.015889   \n",
       "35590 2020-12-31 2021-02-25  56          2700            2764.5  0.015889   \n",
       "\n",
       "            r  close  \n",
       "35586  0.0308  40.15  \n",
       "35587  0.0308  37.40  \n",
       "35588  0.0308  34.80  \n",
       "35589  0.0308  32.40  \n",
       "35590  0.0308  30.10  "
      ]
     },
     "execution_count": 6,
     "metadata": {},
     "output_type": "execute_result"
    }
   ],
   "source": [
    "df.tail()"
   ]
  },
  {
   "cell_type": "code",
   "execution_count": 7,
   "metadata": {},
   "outputs": [],
   "source": [
    "df['sigma_20'] = df.groupby('strike_price')['close'].transform(lambda x: x.rolling(window=20).apply(lambda y: np.std(np.diff(y) / y[:-1])))"
   ]
  },
  {
   "cell_type": "code",
   "execution_count": 8,
   "metadata": {},
   "outputs": [
    {
     "name": "stdout",
     "output_type": "stream",
     "text": [
      "Index(['Date', 'Expiry', 't', 'strike_price', 'underlying_value', 'sigma', 'r',\n",
      "       'close', 'sigma_20'],\n",
      "      dtype='object')\n"
     ]
    }
   ],
   "source": [
    "df.fillna(df.mean(), inplace=True)\n",
    "print(df.columns)"
   ]
  },
  {
   "cell_type": "code",
   "execution_count": 9,
   "metadata": {},
   "outputs": [],
   "source": [
    "feature_columns = ['strike_price', 'underlying_value', 'sigma_20', 'r', 'close']\n",
    "df.dropna(subset=feature_columns + ['close'], inplace=True)"
   ]
  },
  {
   "cell_type": "code",
   "execution_count": 10,
   "metadata": {},
   "outputs": [],
   "source": [
    "X_train, X_test, y_train, y_test = train_test_split(\n",
    "    df[feature_columns],\n",
    "    df['close'],\n",
    "    test_size=0.1,\n",
    "    random_state=42\n",
    ")"
   ]
  },
  {
   "cell_type": "code",
   "execution_count": 23,
   "metadata": {},
   "outputs": [],
   "source": [
    "n_units = 400\n",
    "layers = 4\n",
    "n_batch = 100\n",
    "n_epochs = 40\n",
    "learning_rate = 1e-3"
   ]
  },
  {
   "cell_type": "code",
   "execution_count": 24,
   "metadata": {},
   "outputs": [],
   "source": [
    "scaler = StandardScaler()\n",
    "X_train_scaled = scaler.fit_transform(X_train)\n",
    "X_test_scaled = scaler.transform(X_test)\n",
    "\n",
    "y_scaler = StandardScaler()\n",
    "y_train_scaled = y_scaler.fit_transform(y_train.values.reshape(-1, 1))"
   ]
  },
  {
   "cell_type": "code",
   "execution_count": 25,
   "metadata": {},
   "outputs": [],
   "source": [
    "call_model = Sequential()\n",
    "call_model.add(Dense(n_units, input_dim=X_train_scaled.shape[1], activation='relu'))\n",
    "for _ in range(layers - 1):\n",
    "    call_model.add(Dense(n_units, activation='relu'))\n",
    "call_model.add(Dense(1, activation='linear'))  \n",
    "call_model.compile(loss='mse', optimizer=Adam(learning_rate=learning_rate))\n"
   ]
  },
  {
   "cell_type": "code",
   "execution_count": 26,
   "metadata": {},
   "outputs": [
    {
     "name": "stdout",
     "output_type": "stream",
     "text": [
      "Model: \"sequential_1\"\n",
      "_________________________________________________________________\n",
      " Layer (type)                Output Shape              Param #   \n",
      "=================================================================\n",
      " dense_5 (Dense)             (None, 400)               2400      \n",
      "                                                                 \n",
      " dense_6 (Dense)             (None, 400)               160400    \n",
      "                                                                 \n",
      " dense_7 (Dense)             (None, 400)               160400    \n",
      "                                                                 \n",
      " dense_8 (Dense)             (None, 400)               160400    \n",
      "                                                                 \n",
      " dense_9 (Dense)             (None, 1)                 401       \n",
      "                                                                 \n",
      "=================================================================\n",
      "Total params: 484001 (1.85 MB)\n",
      "Trainable params: 484001 (1.85 MB)\n",
      "Non-trainable params: 0 (0.00 Byte)\n",
      "_________________________________________________________________\n"
     ]
    }
   ],
   "source": [
    "call_model.summary()"
   ]
  },
  {
   "cell_type": "code",
   "execution_count": 27,
   "metadata": {},
   "outputs": [
    {
     "name": "stdout",
     "output_type": "stream",
     "text": [
      "Epoch 1/40\n",
      "318/318 [==============================] - 2s 6ms/step - loss: 0.0097 - val_loss: 0.0014\n",
      "Epoch 2/40\n",
      "318/318 [==============================] - 2s 5ms/step - loss: 1.4808e-04 - val_loss: 6.0433e-05\n",
      "Epoch 3/40\n",
      "318/318 [==============================] - 2s 6ms/step - loss: 9.6285e-05 - val_loss: 3.7444e-04\n",
      "Epoch 4/40\n",
      "318/318 [==============================] - 2s 5ms/step - loss: 6.9702e-04 - val_loss: 2.4803e-05\n",
      "Epoch 5/40\n",
      "318/318 [==============================] - 2s 5ms/step - loss: 4.0015e-05 - val_loss: 3.9938e-05\n",
      "Epoch 6/40\n",
      "318/318 [==============================] - 2s 5ms/step - loss: 2.8949e-05 - val_loss: 7.3717e-05\n",
      "Epoch 7/40\n",
      "318/318 [==============================] - 2s 5ms/step - loss: 6.2874e-04 - val_loss: 4.5493e-05\n",
      "Epoch 8/40\n",
      "318/318 [==============================] - 2s 5ms/step - loss: 4.2005e-05 - val_loss: 6.5885e-06\n",
      "Epoch 9/40\n",
      "318/318 [==============================] - 2s 5ms/step - loss: 1.4998e-04 - val_loss: 1.4506e-04\n",
      "Epoch 10/40\n",
      "318/318 [==============================] - 2s 5ms/step - loss: 9.9806e-05 - val_loss: 9.9122e-05\n",
      "Epoch 11/40\n",
      "318/318 [==============================] - 2s 6ms/step - loss: 2.7389e-04 - val_loss: 4.6947e-05\n",
      "Epoch 12/40\n",
      "318/318 [==============================] - 2s 5ms/step - loss: 3.7308e-05 - val_loss: 2.5803e-04\n",
      "Epoch 13/40\n",
      "318/318 [==============================] - 2s 5ms/step - loss: 3.1767e-04 - val_loss: 0.0058\n",
      "Epoch 14/40\n",
      "318/318 [==============================] - 2s 6ms/step - loss: 2.9787e-04 - val_loss: 3.0643e-05\n",
      "Epoch 15/40\n",
      "318/318 [==============================] - 2s 5ms/step - loss: 7.9949e-05 - val_loss: 2.2294e-04\n",
      "Epoch 16/40\n",
      "318/318 [==============================] - 2s 6ms/step - loss: 1.2798e-04 - val_loss: 3.1863e-05\n",
      "Epoch 17/40\n",
      "318/318 [==============================] - 2s 5ms/step - loss: 3.8987e-05 - val_loss: 9.8640e-06\n",
      "Epoch 18/40\n",
      "318/318 [==============================] - 2s 6ms/step - loss: 1.0850e-05 - val_loss: 3.5871e-05\n",
      "Epoch 19/40\n",
      "318/318 [==============================] - 2s 6ms/step - loss: 5.3205e-04 - val_loss: 7.1113e-05\n",
      "Epoch 20/40\n",
      "318/318 [==============================] - 2s 6ms/step - loss: 6.9603e-05 - val_loss: 1.7447e-05\n",
      "Epoch 21/40\n",
      "318/318 [==============================] - 2s 6ms/step - loss: 1.5739e-04 - val_loss: 1.9661e-05\n",
      "Epoch 22/40\n",
      "318/318 [==============================] - 2s 6ms/step - loss: 2.8228e-05 - val_loss: 4.6810e-06\n",
      "Epoch 23/40\n",
      "318/318 [==============================] - 2s 6ms/step - loss: 8.0832e-06 - val_loss: 2.5648e-05\n",
      "Epoch 24/40\n",
      "318/318 [==============================] - 2s 6ms/step - loss: 4.3547e-04 - val_loss: 1.1459e-05\n",
      "Epoch 25/40\n",
      "318/318 [==============================] - 2s 6ms/step - loss: 3.6076e-05 - val_loss: 6.6242e-06\n",
      "Epoch 26/40\n",
      "318/318 [==============================] - 2s 5ms/step - loss: 5.4450e-06 - val_loss: 1.6340e-05\n",
      "Epoch 27/40\n",
      "318/318 [==============================] - 2s 5ms/step - loss: 1.2911e-05 - val_loss: 1.8427e-05\n",
      "Epoch 28/40\n",
      "318/318 [==============================] - 2s 5ms/step - loss: 1.4371e-04 - val_loss: 8.6923e-06\n",
      "Epoch 29/40\n",
      "318/318 [==============================] - 2s 5ms/step - loss: 2.6837e-05 - val_loss: 2.4489e-06\n",
      "Epoch 30/40\n",
      "318/318 [==============================] - 2s 5ms/step - loss: 3.9626e-04 - val_loss: 3.8918e-06\n",
      "Epoch 31/40\n",
      "318/318 [==============================] - 2s 5ms/step - loss: 7.1904e-06 - val_loss: 3.7496e-06\n",
      "Epoch 32/40\n",
      "318/318 [==============================] - 2s 6ms/step - loss: 5.9565e-06 - val_loss: 4.6020e-06\n",
      "Epoch 33/40\n",
      "318/318 [==============================] - 2s 6ms/step - loss: 5.4756e-06 - val_loss: 5.1159e-06\n",
      "Epoch 34/40\n",
      "318/318 [==============================] - 2s 6ms/step - loss: 2.7587e-05 - val_loss: 1.2638e-05\n",
      "Epoch 35/40\n",
      "318/318 [==============================] - 2s 5ms/step - loss: 1.0191e-04 - val_loss: 5.8275e-05\n",
      "Epoch 36/40\n",
      "318/318 [==============================] - 2s 5ms/step - loss: 7.7861e-04 - val_loss: 2.7233e-05\n",
      "Epoch 37/40\n",
      "318/318 [==============================] - 2s 6ms/step - loss: 1.1948e-05 - val_loss: 4.7924e-05\n",
      "Epoch 38/40\n",
      "318/318 [==============================] - 2s 6ms/step - loss: 6.3543e-06 - val_loss: 2.5780e-05\n",
      "Epoch 39/40\n",
      "318/318 [==============================] - 2s 5ms/step - loss: 2.9396e-05 - val_loss: 1.8952e-04\n",
      "Epoch 40/40\n",
      "318/318 [==============================] - 2s 6ms/step - loss: 1.8833e-05 - val_loss: 2.9391e-05\n"
     ]
    }
   ],
   "source": [
    "history = call_model.fit(X_train_scaled, y_train_scaled,\n",
    "                         batch_size=n_batch, epochs=n_epochs,\n",
    "                         validation_split=0.01,\n",
    "                         callbacks=[TensorBoard()],\n",
    "                         verbose=1)"
   ]
  },
  {
   "cell_type": "code",
   "execution_count": 28,
   "metadata": {},
   "outputs": [],
   "source": [
    "call_model.save('call_option_model.keras')"
   ]
  },
  {
   "cell_type": "code",
   "execution_count": 29,
   "metadata": {},
   "outputs": [
    {
     "data": {
      "image/png": "[encoded data removed]",
      "text/plain": [
       "<Figure size 640x480 with 1 Axes>"
      ]
     },
     "metadata": {},
     "output_type": "display_data"
    }
   ],
   "source": [
    "plt.plot(history.history['loss'], label='Training Loss')\n",
    "plt.plot(history.history['val_loss'], label='Validation Loss')\n",
    "plt.title('Call Option Model Training History')\n",
    "plt.xlabel('Epochs')\n",
    "plt.ylabel('Mean Squared Error Loss')\n",
    "plt.legend()\n",
    "plt.show()"
   ]
  },
  {
   "cell_type": "code",
   "execution_count": 30,
   "metadata": {},
   "outputs": [
    {
     "name": "stdout",
     "output_type": "stream",
     "text": [
      "112/112 [==============================] - 0s 2ms/step - loss: 71595.0078\n",
      "Test Mean Squared Error: 71595.0078125\n",
      "112/112 [==============================] - 0s 2ms/step\n"
     ]
    }
   ],
   "source": [
    "from sklearn.metrics import mean_squared_error, r2_score\n",
    "\n",
    "test_loss = call_model.evaluate(X_test_scaled, y_test)\n",
    "print(f'Test Mean Squared Error: {test_loss}')\n",
    "\n",
    "call_predictions_scaled = call_model.predict(X_test_scaled)\n",
    "\n",
    "call_predictions_rescaled = y_scaler.inverse_transform(call_predictions_scaled)"
   ]
  },
  {
   "cell_type": "code",
   "execution_count": 31,
   "metadata": {},
   "outputs": [
    {
     "name": "stdout",
     "output_type": "stream",
     "text": [
      "Mean Squared Error (MSE): 0.9262957826485589\n",
      "Root Mean Squared Error (RMSE): 0.9624426126520785\n",
      "R-squared (R2): 0.9999696067267526\n"
     ]
    }
   ],
   "source": [
    "mse = mean_squared_error(y_test, call_predictions_rescaled)\n",
    "rmse = np.sqrt(mse)\n",
    "r2 = r2_score(y_test, call_predictions_rescaled)\n",
    "\n",
    "print(f'Mean Squared Error (MSE): {mse}')\n",
    "print(f'Root Mean Squared Error (RMSE): {rmse}')\n",
    "print(f'R-squared (R2): {r2}')"
   ]
  },
  {
   "cell_type": "code",
   "execution_count": 33,
   "metadata": {},
   "outputs": [
    {
     "data": {
      "image/png": "[encoded data removed]",
      "text/plain": [
       "<Figure size 640x480 with 1 Axes>"
      ]
     },
     "metadata": {},
     "output_type": "display_data"
    }
   ],
   "source": [
    "plt.scatter(y_test, call_predictions_rescaled, alpha=0.5)\n",
    "plt.title('Call Option Model: Actual vs Predicted Values')\n",
    "plt.xlabel('Actual Values')\n",
    "plt.ylabel('Predicted Values')\n",
    "\n",
    "fit_line = np.polyfit(y_test, call_predictions_rescaled.flatten(), 1)\n",
    "fit_line_fn = np.poly1d(fit_line)\n",
    "plt.plot(y_test, fit_line_fn(y_test), color='red', label='Linear Fit')\n",
    "\n",
    "plt.legend()\n",
    "plt.savefig('call_option_actual_vs_predicted_with_fit_line.png')\n",
    "plt.show()"
   ]
  }
 ],
 "metadata": {
  "kernelspec": {
   "display_name": "Python 3",
   "language": "python",
   "name": "python3"
  },
  "language_info": {
   "codemirror_mode": {
    "name": "ipython",
    "version": 3
   },
   "file_extension": ".py",
   "mimetype": "text/x-python",
   "name": "python",
   "nbconvert_exporter": "python",
   "pygments_lexer": "ipython3",
   "version": "3.8.18"
  }
 },
 "nbformat": 4,
 "nbformat_minor": 2
}
